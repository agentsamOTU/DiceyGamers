{
 "cells": [
  {
   "cell_type": "code",
   "execution_count": 9,
   "metadata": {},
   "outputs": [
    {
     "name": "stdout",
     "output_type": "stream",
     "text": [
      "Recognizing...\n",
      "Sam took Matthew's wrestling figure and broke it then he cried\n",
      "(S\n",
      "  (PERSON Sam/NNP)\n",
      "  took/VBD\n",
      "  (PERSON Matthew/NNP)\n",
      "  's/POS\n",
      "  wrestling/NN\n",
      "  figure/NN\n",
      "  and/CC\n",
      "  broke/VBD\n",
      "  it/PRP\n",
      "  then/RB\n",
      "  he/PRP\n",
      "  cried/VBD)\n"
     ]
    }
   ],
   "source": [
    "import speech_recognition as sr\n",
    "import nltk\n",
    "\n",
    "r = sr.Recognizer()\n",
    "\n",
    "with sr.Microphone() as source:\n",
    "    # read the audio data from the default microphone\n",
    "    audio_data = r.record(source, duration=5)\n",
    "    print(\"Recognizing...\")\n",
    "    # convert speech to text\n",
    "    text = r.recognize_google(audio_data)\n",
    "    print(text)\n",
    "    \n",
    "    tokens = nltk.word_tokenize(text)\n",
    "    tagged = nltk.pos_tag(tokens)\n",
    "    entities = nltk.chunk.ne_chunk(tagged)\n",
    "    print(entities)\n",
    "    "
   ]
  }
 ],
 "metadata": {
  "kernelspec": {
   "display_name": "ml",
   "language": "python",
   "name": "python3"
  },
  "language_info": {
   "codemirror_mode": {
    "name": "ipython",
    "version": 3
   },
   "file_extension": ".py",
   "mimetype": "text/x-python",
   "name": "python",
   "nbconvert_exporter": "python",
   "pygments_lexer": "ipython3",
   "version": "3.9.16"
  },
  "orig_nbformat": 4
 },
 "nbformat": 4,
 "nbformat_minor": 2
}
