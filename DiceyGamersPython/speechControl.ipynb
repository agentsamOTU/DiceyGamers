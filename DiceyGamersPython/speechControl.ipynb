{
 "cells": [
  {
   "cell_type": "code",
   "execution_count": 53,
   "metadata": {},
   "outputs": [],
   "source": [
    "import speech_recognition as sr\n",
    "import nltk\n",
    "from nltk.corpus import wordnet as wn"
   ]
  },
  {
   "cell_type": "code",
   "execution_count": 78,
   "metadata": {},
   "outputs": [],
   "source": [
    "betSyn = []\n",
    "for syn in wn.synsets(\"bet\"):\n",
    "    for i in syn.lemmas():\n",
    "        betSyn.append(i.name())\n",
    "for syn in wn.synsets(\"do\"):\n",
    "    for i in syn.lemmas():\n",
    "        betSyn.append(i.name())\n",
    "for syn in wn.synsets(\"put\"):\n",
    "    for i in syn.lemmas():\n",
    "        betSyn.append(i.name())\n",
    "for syn in wn.synsets(\"go\"):\n",
    "    for i in syn.lemmas():\n",
    "        betSyn.append(i.name())\n",
    "betSynSet=set(betSyn)      \n",
    "betSyn=list(betSynSet)\n",
    "\n",
    "underSyn = []\n",
    "for syn in wn.synsets(\"under\"):\n",
    "    for i in syn.lemmas():\n",
    "        underSyn.append(i.name())\n",
    "for syn in wn.synsets(\"less\"):\n",
    "    for i in syn.lemmas():\n",
    "        underSyn.append(i.name())\n",
    "underSynSet=set(underSyn)\n",
    "underSyn=list(underSynSet)\n",
    "\n",
    "overSyn=[]\n",
    "for syn in wn.synsets(\"over\"):\n",
    "    for i in syn.lemmas():\n",
    "        overSyn.append(i.name())\n",
    "for syn in wn.synsets(\"more\"):\n",
    "    for i in syn.lemmas():\n",
    "        overSyn.append(i.name())\n",
    "overSynSet=set(overSyn)\n",
    "overSyn=list(overSynSet)\n",
    "\n",
    "exactSyn=[]\n",
    "for syn in wn.synsets(\"exactly\"):\n",
    "    for i in syn.lemmas():\n",
    "        exactSyn.append(i.name())\n",
    "exactSynSet=set(exactSyn)\n",
    "exactSyn=list(exactSynSet)\n"
   ]
  },
  {
   "cell_type": "code",
   "execution_count": 12,
   "metadata": {},
   "outputs": [
    {
     "name": "stdout",
     "output_type": "stream",
     "text": [
      "Recognizing...\n",
      "I'd like to bet 100 on under 7\n"
     ]
    }
   ],
   "source": [
    "r = sr.Recognizer()\n",
    "\n",
    "with sr.Microphone() as source:\n",
    "    # read the audio data from the default microphone\n",
    "    audio_data = r.record(source, duration=5)\n",
    "    print(\"Recognizing...\")\n",
    "    # convert speech to text\n",
    "    text = r.recognize_google(audio_data)\n",
    "    print(text)\n",
    "    \n",
    "    "
   ]
  },
  {
   "cell_type": "code",
   "execution_count": 80,
   "metadata": {},
   "outputs": [],
   "source": [
    "text=\"I'd like to go 1200 on just 7\""
   ]
  },
  {
   "cell_type": "code",
   "execution_count": 79,
   "metadata": {},
   "outputs": [
    {
     "name": "stdout",
     "output_type": "stream",
     "text": [
      "['kick_the_bucket', 'look', 'drop_dead', 'exercise', 'become', 'brawl', 'go_away', 'work', 'put_option', 'behave', 'execute', 'Doctor_of_Osteopathy', 'blend_in', 'arrange', 'redact', 'locomote', 'give-up_the_ghost', 'live_on', 'fit', 'give_way', 'set_up', 'last', 'cristal', 'pass', 'coif', 'set', 'manage', 'get', 'run_short', 'rifle', 'croak', 'bash', 'perform', 'go_bad', 'depart', 'expire', 'conk_out', 'couch', 'commit', 'fling', 'stake', 'go_game', 'blend', 'extend', 'act', 'lay', 'disco_biscuit', 'practise', 'run', 'run_low', 'start', \"cash_in_one's_chips\", 'frame', 'cast', 'hold_out', 'depend', 'ut', 'doh', 'do', 'plump', 'exit', 'decease', 'answer', 'assign', 'endure', 'dress', 'make', 'turn', 'spell', 'buy_the_farm', 'ecstasy', 'die', 'DO', 'stakes', 'invest', 'survive', 'sound', 'lead', 'fare', 'go', 'order', 'tour', 'suffice', 'XTC', 'conk', 'coiffe', 'make_out', 'position', 'practice', 'offer', 'snuff_it', 'place', 'X', 'play', 'get_going', 'give_out', 'break_down', 'move', 'hug_drug', 'wager', 'proceed', 'perish', 'cause', 'break', 'hold_up', 'calculate', 'pop_off', 'belong', 'fail', 'serve', 'travel', 'bet', 'crack', 'pass_away', 'put', 'whirl', 'Adam', 'live', 'count', 'get_along', 'function', 'coiffure', 'pose', 'choke', 'operate', 'reckon', 'come']\n",
      "['LE', 'below', 'nether', 'less', 'to_a_lesser_extent', 'under', 'lupus_erythematosus']\n",
      "['terminated', 'Thomas_More', 'concluded', 'over', 'more', 'to_a_greater_extent', 'Sir_Thomas_More', 'more_than', 'ended', 'More', \"o'er\", 'complete', 'all_over']\n",
      "['just', 'on_the_nose', 'on_the_dot', 'incisively', 'on_the_button', 'precisely', 'exactly']\n"
     ]
    }
   ],
   "source": [
    "print(betSyn)\n",
    "print(underSyn)\n",
    "print(overSyn)\n",
    "print(exactSyn)"
   ]
  },
  {
   "cell_type": "code",
   "execution_count": 77,
   "metadata": {},
   "outputs": [
    {
     "name": "stdout",
     "output_type": "stream",
     "text": [
      "['I', \"'d\", 'like', 'to', 'do', '1200', 'on', 'just', '7']\n",
      "(S I/PRP 'd/MD like/VB to/TO do/VB 1200/CD on/IN just/RB 7/CD)\n",
      "1200\n",
      "exact\n"
     ]
    }
   ],
   "source": [
    "tokens = nltk.word_tokenize(text)\n",
    "print(tokens)\n",
    "tagged = nltk.pos_tag(tokens)\n",
    "entities = nltk.chunk.ne_chunk(tagged)\n",
    "print(entities)\n",
    "\n",
    "\n",
    "numList = []\n",
    "\n",
    "for i,word in enumerate(tokens):\n",
    "    if word.isdigit():\n",
    "        numList.append(i)\n",
    "\n",
    "betFound = False\n",
    "actionFound = False\n",
    "        \n",
    "for i in numList:\n",
    "    if tokens[i-1] in exactSyn:\n",
    "        actionFound=True\n",
    "        action='exact'\n",
    "        continue\n",
    "    elif tokens[i-1] in underSyn:\n",
    "        actionFound=True\n",
    "        action='under'\n",
    "        continue\n",
    "    elif tokens[i-1] in overSyn:\n",
    "        actionFound=True\n",
    "        action='over'\n",
    "        continue\n",
    "    elif tokens[i-1] in betSyn:\n",
    "        betFound=True\n",
    "        bet=int(tokens[i])\n",
    "        continue\n",
    "if not actionFound:\n",
    "    tokenSet=set(tokens)\n",
    "    if not tokenSet.isdisjoint(underSynSet):\n",
    "        actionFound=True\n",
    "        action='under'\n",
    "    elif not tokenSet.isdisjoint(overSynSet):\n",
    "        actionFound=True\n",
    "        action='over'\n",
    "    elif not tokenSet.isdisjoint(exactSynSet):\n",
    "        actionFound=True\n",
    "        action='exact'\n",
    "    elif '7' in tokens:\n",
    "        actionFound = True\n",
    "        action = 'exact'\n",
    "\n",
    "print(bet)\n",
    "print(action)\n"
   ]
  }
 ],
 "metadata": {
  "kernelspec": {
   "display_name": "ml",
   "language": "python",
   "name": "python3"
  },
  "language_info": {
   "codemirror_mode": {
    "name": "ipython",
    "version": 3
   },
   "file_extension": ".py",
   "mimetype": "text/x-python",
   "name": "python",
   "nbconvert_exporter": "python",
   "pygments_lexer": "ipython3",
   "version": "3.9.16"
  },
  "orig_nbformat": 4
 },
 "nbformat": 4,
 "nbformat_minor": 2
}
